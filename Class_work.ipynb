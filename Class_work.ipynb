{
 "cells": [
  {
   "cell_type": "markdown",
   "metadata": {},
   "source": [
    "DATA ANALYTICS CLASS - 08/08/2024"
   ]
  },
  {
   "cell_type": "code",
   "execution_count": 10,
   "metadata": {},
   "outputs": [],
   "source": [
    "import random"
   ]
  },
  {
   "cell_type": "code",
   "execution_count": 11,
   "metadata": {},
   "outputs": [
    {
     "data": {
      "text/plain": [
       "0.5298743273361577"
      ]
     },
     "execution_count": 11,
     "metadata": {},
     "output_type": "execute_result"
    }
   ],
   "source": [
    "random.random()"
   ]
  },
  {
   "cell_type": "code",
   "execution_count": 12,
   "metadata": {},
   "outputs": [
    {
     "data": {
      "text/plain": [
       "3"
      ]
     },
     "execution_count": 12,
     "metadata": {},
     "output_type": "execute_result"
    }
   ],
   "source": [
    "random.randint(2, 7)"
   ]
  },
  {
   "cell_type": "code",
   "execution_count": 13,
   "metadata": {},
   "outputs": [],
   "source": [
    "num_guessed = int(input(\"Enter an integer: \"))\n",
    "computer_guess = random.randint(0, 100)\n",
    "\n",
    "if num_guessed < 0 or num_guessed > 100:\n",
    "    print(\"Your guess must be between 0 amd 100\")\n",
    "\n",
    "else:\n",
    "    if num_guessed == computer_guess:\n",
    "        print(\"You win\")\n",
    "    else:\n",
    "        print(f\" You guessed {num_guessed}, computer guessed {computer_guess}, You loose!\")\n"
   ]
  },
  {
   "cell_type": "code",
   "execution_count": null,
   "metadata": {},
   "outputs": [],
   "source": [
    "number = [1, 2, 3, 4, 5]\n",
    "\n",
    "mixed = [1, \"hello\", 3.14, True]\n",
    "\n",
    "my_list = [1, 2, 3, 4, 5]\n",
    "\n",
    "print(my_list[0])\n",
    "\n",
    "print(my_list[-1])\n",
    "\n",
    "print(my_list[::1]) #This line skips the number of  items specified\n",
    "\n",
    "print(my_list[2:]) #This line prints elements from index 2 to the end\n",
    "\n",
    "print(my_list[2:])\n",
    "\n",
    "my_list.append(6)\n",
    "print(my_list)\n",
    "\n",
    "my_list.extend([7,8])\n",
    "print(my_list)\n",
    "\n",
    "str1 = ['come', 'coming', 'coming']\n",
    "print (str1)\n"
   ]
  },
  {
   "cell_type": "code",
   "execution_count": null,
   "metadata": {},
   "outputs": [
    {
     "data": {
      "text/plain": [
       "7"
      ]
     },
     "execution_count": 47,
     "metadata": {},
     "output_type": "execute_result"
    }
   ],
   "source": [
    "str4 = [\"Zainab\", 'chidi', 'chiamaka', 'ada', 'Aada', 'Ada', 'Obi']\n",
    "\n",
    "len(str4)\n",
    "\n",
    "str4 [3][2]\n",
    "\n",
    "str4.index('chidi')\n"
   ]
  },
  {
   "cell_type": "code",
   "execution_count": null,
   "metadata": {},
   "outputs": [],
   "source": [
    "abb = []\n",
    "for i in str4:\n",
    "    abb.append(i[:2])\n",
    "\n",
    "abb"
   ]
  },
  {
   "cell_type": "code",
   "execution_count": null,
   "metadata": {},
   "outputs": [],
   "source": [
    "abv = []\n",
    "for i in str4:\n",
    "    print(abv)\n",
    "    "
   ]
  },
  {
   "cell_type": "markdown",
   "metadata": {},
   "source": [
    "<h1>TUPLE</h1> - 12/08/2025"
   ]
  },
  {
   "cell_type": "code",
   "execution_count": 6,
   "metadata": {},
   "outputs": [
    {
     "name": "stdout",
     "output_type": "stream",
     "text": [
      "('Charles', 'Jude', 'Daniel', '  busy')\n"
     ]
    },
    {
     "data": {
      "text/plain": [
       "tuple"
      ]
     },
     "execution_count": 6,
     "metadata": {},
     "output_type": "execute_result"
    }
   ],
   "source": [
    "tup = ('Charles', 'Jude', 'Daniel', '  busy')\n",
    "print(tup)\n",
    "type(tup)"
   ]
  },
  {
   "cell_type": "code",
   "execution_count": null,
   "metadata": {},
   "outputs": [],
   "source": [
    "# Create a tuple with 15 different elements\n",
    "my_tuple = ('three', 'five', 'seven', 'nine', 'eleven', 'thirteen',)\n",
    "\n",
    "alphabet = \"a,b,c,d,e,f,g,h,i,j,k,l\"\n"
   ]
  },
  {
   "cell_type": "code",
   "execution_count": null,
   "metadata": {},
   "outputs": [],
   "source": [
    "# task 1\n",
    "for i, index in my_tuple < 14 and i in alphabet:\n",
    "    print(i, index)\n"
   ]
  },
  {
   "cell_type": "code",
   "execution_count": 5,
   "metadata": {},
   "outputs": [
    {
     "name": "stdout",
     "output_type": "stream",
     "text": [
      "{'name': 'John', 'age': 21, 'major': 'Computer Science', 'GPA': 3.8}\n"
     ]
    }
   ],
   "source": [
    "student = {\"name\":\"John\", \"age\":21, \"major\":\"Computer Science\"}\n",
    "\n",
    "\n",
    "# to add element to dictionary\n",
    "student[\"GPA\"] =3.8\n",
    "\n",
    "print(student)"
   ]
  },
  {
   "cell_type": "code",
   "execution_count": 11,
   "metadata": {},
   "outputs": [
    {
     "name": "stdout",
     "output_type": "stream",
     "text": [
      "name : John\n",
      "age : 21\n",
      "major : Computer Science\n",
      "GPA : 3.8\n"
     ]
    }
   ],
   "source": [
    "for key, value in student.items():\n",
    "    print(f\"{key} : {value}\")"
   ]
  },
  {
   "cell_type": "markdown",
   "metadata": {},
   "source": [
    "<h3>RECURSION</h3>"
   ]
  },
  {
   "cell_type": "code",
   "execution_count": null,
   "metadata": {},
   "outputs": [],
   "source": [
    "n= int(input(\"Enter number to calculate factorial\"))\n",
    "result = 1\n",
    "for  i in range(1, n+1):\n",
    "    result*=i\n",
    "    print(f\"The factorial of {n} is {result}\")"
   ]
  },
  {
   "cell_type": "code",
   "execution_count": null,
   "metadata": {},
   "outputs": [],
   "source": [
    "\n",
    "def fibonacci_sequence(n):\n",
    "    \n",
    "    if n <= 0:\n",
    "        fibonacci_numbers =[]\n",
    "    elif n == 1:\n",
    "        fibonacci_numbers=[0]\n",
    "    else:\n",
    "        fibonacci_numbers = [0, 1]\n",
    "        for i in range(2, n):\n",
    "\n",
    "             fibonacci_numbers.append(fibonacci_numbers[i-1]+fibonacci_numbers[i-2])\n",
    "             \n",
    "    return fibonacci_numbers"
   ]
  },
  {
   "cell_type": "code",
   "execution_count": null,
   "metadata": {},
   "outputs": [],
   "source": [
    "def add_numbers(a, b):\n",
    "  return a + b"
   ]
  },
  {
   "cell_type": "code",
   "execution_count": 9,
   "metadata": {},
   "outputs": [
    {
     "name": "stdout",
     "output_type": "stream",
     "text": [
      "['Math', 'Comp Sci']\n",
      "yes\n"
     ]
    }
   ],
   "source": [
    "student = {'Name':'John', 'Age': 25, 'Courses':['Math', 'Comp Sci']}\n",
    "print (student['Courses'])\n",
    "    \n",
    "if 'Math' in student[\"Courses\"]:\n",
    "    print ('yes')\n",
    "\n",
    "else :\n",
    "    print ('No')\n"
   ]
  }
 ],
 "metadata": {
  "kernelspec": {
   "display_name": "base",
   "language": "python",
   "name": "python3"
  },
  "language_info": {
   "codemirror_mode": {
    "name": "ipython",
    "version": 3
   },
   "file_extension": ".py",
   "mimetype": "text/x-python",
   "name": "python",
   "nbconvert_exporter": "python",
   "pygments_lexer": "ipython3",
   "version": "3.12.4"
  }
 },
 "nbformat": 4,
 "nbformat_minor": 2
}
