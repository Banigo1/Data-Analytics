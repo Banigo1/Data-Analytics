{
 "cells": [
  {
   "cell_type": "markdown",
   "metadata": {},
   "source": [
    "DATA ANALYTICS CLASS 08/08/2024"
   ]
  },
  {
   "cell_type": "code",
   "execution_count": 24,
   "metadata": {},
   "outputs": [],
   "source": [
    "import random"
   ]
  },
  {
   "cell_type": "code",
   "execution_count": 25,
   "metadata": {},
   "outputs": [
    {
     "data": {
      "text/plain": [
       "0.17701304715874033"
      ]
     },
     "execution_count": 25,
     "metadata": {},
     "output_type": "execute_result"
    }
   ],
   "source": [
    "random.random()"
   ]
  },
  {
   "cell_type": "code",
   "execution_count": 26,
   "metadata": {},
   "outputs": [
    {
     "data": {
      "text/plain": [
       "6"
      ]
     },
     "execution_count": 26,
     "metadata": {},
     "output_type": "execute_result"
    }
   ],
   "source": [
    "random.randint(2, 7)"
   ]
  },
  {
   "cell_type": "code",
   "execution_count": 32,
   "metadata": {},
   "outputs": [
    {
     "name": "stdout",
     "output_type": "stream",
     "text": [
      " You guessed 20, computer guessed 84, You loose\n"
     ]
    }
   ],
   "source": [
    "num_guessed = int(input(\"Enter an integer: \"))\n",
    "computer_guess = random.randint(0, 100)\n",
    "\n",
    "if num_guessed < 0 or num_guessed > 100:\n",
    "    print(\"Your guess must be between 0 amd 100\")\n",
    "\n",
    "else:\n",
    "    if num_guessed == computer_guess:\n",
    "        print(\"You win\")\n",
    "    else:\n",
    "        print(f\" You guessed {num_guessed}, computer guessed {computer_guess}, You loose!\")\n"
   ]
  },
  {
   "cell_type": "code",
   "execution_count": null,
   "metadata": {},
   "outputs": [],
   "source": [
    "number = [1, 2, 3, 4, 5]\n",
    "\n",
    "mixed = [1, \"hello\", 3.14, True]\n",
    "\n",
    "my_list = [1, 2, 3, 4, 5]\n",
    "\n",
    "print(my_list[0])\n",
    "\n",
    "print(my_list[-1])\n",
    "\n",
    "print(my_list[::1]) #This line skips the number of  items specified\n",
    "\n",
    "print(my_list[2:]) #This line prints elements from index 2 to the end\n",
    "\n",
    "print(my_list[2:])\n",
    "\n",
    "my_list.append(6)\n",
    "print(my_list)\n",
    "\n",
    "my_list.extend([7,8])\n",
    "print(my_list)\n",
    "\n",
    "str1 = ['come', 'coming', 'coming']\n",
    "print (str1)\n"
   ]
  },
  {
   "cell_type": "markdown",
   "metadata": {},
   "source": []
  },
  {
   "cell_type": "code",
   "execution_count": 47,
   "metadata": {},
   "outputs": [
    {
     "data": {
      "text/plain": [
       "7"
      ]
     },
     "execution_count": 47,
     "metadata": {},
     "output_type": "execute_result"
    }
   ],
   "source": [
    "str4 = [\"Zainab\", 'chidi', 'chiamaka', 'ada', 'Aada', 'Ada', 'Obi']\n",
    "\n",
    "len(str4)\n",
    "\n",
    "str4 [3][2]\n",
    "\n",
    "str4.index('chidi')\n"
   ]
  },
  {
   "cell_type": "code",
   "execution_count": null,
   "metadata": {},
   "outputs": [],
   "source": [
    "abb = []\n",
    "for i in str4:\n",
    "    abb.append(i[:2])\n",
    "\n",
    "abb"
   ]
  },
  {
   "cell_type": "code",
   "execution_count": 48,
   "metadata": {},
   "outputs": [],
   "source": [
    "abv = []\n",
    "for i in str4:\n",
    "    print(abv)"
   ]
  }
 ],
 "metadata": {
  "kernelspec": {
   "display_name": "base",
   "language": "python",
   "name": "python3"
  },
  "language_info": {
   "codemirror_mode": {
    "name": "ipython",
    "version": 3
   },
   "file_extension": ".py",
   "mimetype": "text/x-python",
   "name": "python",
   "nbconvert_exporter": "python",
   "pygments_lexer": "ipython3",
   "version": "3.12.4"
  }
 },
 "nbformat": 4,
 "nbformat_minor": 2
}
