{
 "cells": [
  {
   "cell_type": "markdown",
   "id": "3dabce33-2779-439a-a25c-5ca1bb4966b4",
   "metadata": {},
   "source": [
    "### Project 2: Web Scraping Konga for Product Information by Categories and Prices"
   ]
  },
  {
   "cell_type": "code",
   "execution_count": 5,
   "id": "11cf4088-6e16-43ce-94f2-64d8cf4e8298",
   "metadata": {},
   "outputs": [],
   "source": [
    "from bs4 import BeautifulSoup\n",
    "import requests\n",
    "import pandas as pd"
   ]
  },
  {
   "cell_type": "code",
   "execution_count": 16,
   "id": "8fcde913-6230-43d1-bab8-0020b8fd448f",
   "metadata": {},
   "outputs": [],
   "source": [
    "categories = [\n",
    "    'https://www.konga.com/category/electronics-5261',\n",
    "    'https://www.konga.com/category/konga-fashion-1259',\n",
    "    'https://www.konga.com/category/home-kitchen-602',\n",
    "    'https://www.konga.com/category/laptops-5230'\n",
    "]\n",
    "all_products = []\n",
    "\n",
    "for category_url in categories:\n",
    "    response = requests.get(category_url)\n",
    "    html_content = response.text\n",
    "    soup = BeautifulSoup(html_content, 'html.parser')\n",
    "\n",
    "    for product in soup.find_all('section'):\n",
    "        # current_price = product.find('section').text.strip()\n",
    "        discounted_price = product.find('section', class_='discounted-price')\n",
    "        former_price = product.find('section', class_='former-price')\n",
    "\n",
    "        discounted_price = discounted_price.text.strip() if discounted_price else None\n",
    "        former_price = former_price.text.strip() if former_price else None\n",
    "\n",
    "        all_products.append({\n",
    "        'category': category_url.split('/')[-1],\n",
    "        # 'Name': name,\n",
    "        # 'Current Price': current_price,\n",
    "        # 'Discounted Price': discounted_price,\n",
    "        # 'Former Price': former_price\n",
    "})"
   ]
  },
  {
   "cell_type": "code",
   "execution_count": 18,
   "id": "8236e7e8-8db1-48a7-84ec-3b91283c1d73",
   "metadata": {},
   "outputs": [],
   "source": [
    "df = pd.DataFrame(all_products)"
   ]
  },
  {
   "cell_type": "code",
   "execution_count": 114,
   "id": "978ef123-357b-41cb-b6fe-82019db20864",
   "metadata": {},
   "outputs": [
    {
     "name": "stdout",
     "output_type": "stream",
     "text": [
      "Empty DataFrame\n",
      "Columns: []\n",
      "Index: []\n"
     ]
    }
   ],
   "source": [
    "print(df)"
   ]
  },
  {
   "cell_type": "code",
   "execution_count": null,
   "id": "46703447-3f73-4f74-ae23-07bd68b5cab6",
   "metadata": {},
   "outputs": [],
   "source": []
  }
 ],
 "metadata": {
  "kernelspec": {
   "display_name": "Python 3 (ipykernel)",
   "language": "python",
   "name": "python3"
  },
  "language_info": {
   "codemirror_mode": {
    "name": "ipython",
    "version": 3
   },
   "file_extension": ".py",
   "mimetype": "text/x-python",
   "name": "python",
   "nbconvert_exporter": "python",
   "pygments_lexer": "ipython3",
   "version": "3.12.4"
  }
 },
 "nbformat": 4,
 "nbformat_minor": 5
}
