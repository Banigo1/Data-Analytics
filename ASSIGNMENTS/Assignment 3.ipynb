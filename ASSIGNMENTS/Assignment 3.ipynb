{
 "cells": [
  {
   "cell_type": "markdown",
   "metadata": {},
   "source": [
    "<h3>Assignment 3: Simple Calculator</h3>\n",
    "\n",
    "Objective: Use conditional statements to perform basic arithmetic operations.\n",
    "\n",
    "Task: Write a program that functions as a simple calculator, performing addition, subtraction, multiplication, or division based on user input.\n",
    "\n",
    "Requirements:\n",
    "1.\tPrompt the user to input a number, an operator (+, -, *, /), and another number.\n",
    "2.\tUse conditional statements to determine the operation to be performed based on the operator input.\n",
    "3.\tPerform the corresponding arithmetic operation.\n",
    "4.\tPrint the result of the computation."
   ]
  },
  {
   "cell_type": "code",
   "execution_count": null,
   "metadata": {},
   "outputs": [],
   "source": [
    "num1 = float(input(\"Enter the first number: \"))\n",
    "operator = input(\"Enter an operator (+, -, *, /): \")\n",
    "num2 = float(input(\"Enter the second number: \"))\n",
    "\n",
    "if operator == \"+\":\n",
    "  result = num1 + num2\n",
    "elif operator == \"-\":\n",
    "  result = num1 - num2\n",
    "elif operator == \"*\":\n",
    "  result = num1 * num2\n",
    "elif operator == \"/\":\n",
    "  if num2 == 0:\n",
    "    print(\"Error: Division by zero\")\n",
    "  else:\n",
    "    result = num1 / num2\n",
    "else:\n",
    "  print(\"Invalid operator\")\n",
    "\n",
    "print(\"Result:\", result)\n"
   ]
  },
  {
   "cell_type": "code",
   "execution_count": 9,
   "metadata": {},
   "outputs": [
    {
     "name": "stdout",
     "output_type": "stream",
     "text": [
      "2\n",
      "1\n",
      "None\n",
      "[1, 2, 2, 2, 2, 2, 3, 3, 3, 3, 4, 4, 5, 5, 6, 6, 7, 7, 8]\n"
     ]
    }
   ],
   "source": [
    "my_list =[1,2,3,4,2,3,4,5,6,7,8,6,2,3,2,7,3,5,2]\n",
    "\n",
    "print(my_list.count(4)) #Number of occurence of argument\n",
    "\n",
    "print(my_list.index(2))\n",
    "\n",
    "print(my_list.sort())\n",
    "\n",
    "print(my_list)\n",
    "\n",
    "\n",
    "\n"
   ]
  }
 ],
 "metadata": {
  "kernelspec": {
   "display_name": "base",
   "language": "python",
   "name": "python3"
  },
  "language_info": {
   "codemirror_mode": {
    "name": "ipython",
    "version": 3
   },
   "file_extension": ".py",
   "mimetype": "text/x-python",
   "name": "python",
   "nbconvert_exporter": "python",
   "pygments_lexer": "ipython3",
   "version": "3.12.4"
  }
 },
 "nbformat": 4,
 "nbformat_minor": 2
}
