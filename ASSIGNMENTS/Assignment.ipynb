{
 "cells": [
  {
   "cell_type": "markdown",
   "id": "e02edb9b",
   "metadata": {},
   "source": [
    "<h3>Assignment 1: Number Classification</h3>\n",
    "\n",
    "Objective: Use conditional statements to classify numbers.\n",
    "\n",
    "Task: Write a program that asks the user to enter a number and checks whether the number is positive, negative, or zero. Additionally, check if the number is even or odd.\n",
    "\n",
    "Requirements:\n",
    "1.\tPrompt the user to input a number.\n",
    "2.\tUse conditional statements to determine if the number is positive, negative, or zero.\n",
    "3.\tUse conditional statements to determine if the number is even or odd.\n",
    "4.\tPrint appropriate messages for each classification.\n"
   ]
  },
  {
   "cell_type": "code",
   "execution_count": 6,
   "id": "3473a5f3",
   "metadata": {},
   "outputs": [],
   "source": [
    "number = int(input(\"Enter a number:\"))\n",
    "\n",
    "if number > 0:\n",
    "        print(\"This number is positive.\")\n",
    "elif number < 0:\n",
    "        print(\"This number is negative\")\n",
    "else:\n",
    "        print(\"This number is negative.\")\n",
    "\n",
    "if number % 2==0:\n",
    "        print(\"This number is even.\")\n",
    "else:\n",
    "        print(\"This number is odd.\")"
   ]
  },
  {
   "cell_type": "markdown",
   "id": "42e80887",
   "metadata": {},
   "source": []
  },
  {
   "cell_type": "markdown",
   "id": "c8a57ab9",
   "metadata": {},
   "source": [
    "<h3>Assignment 2: Prime Numbers</h3>\n",
    "\n",
    "Objective: Use loops and conditional statements to find prime numbers.\n",
    "\n",
    "Task: Write a program that prints all prime numbers between 1 and 50.\n",
    "\n",
    "Requirements:\n",
    "1.\tUse a for loop to iterate through numbers from 1 to 50.\n",
    "2.\tUse a nested for loop and conditional statements to check if a number is prime.\n",
    "3.\tPrint each prime number."
   ]
  },
  {
   "cell_type": "code",
   "execution_count": null,
   "id": "914e07da",
   "metadata": {},
   "outputs": [],
   "source": [
    "for nums in range(2, 51):\n",
    "    if_prime = True\n",
    "    for i in range (2, nums):\n",
    "        if nums % i == 0:\n",
    "            if_prime = False\n",
    "            break\n",
    "    if if_prime:\n",
    "        print(nums)"
   ]
  },
  {
   "cell_type": "markdown",
   "id": "2965ee6b",
   "metadata": {},
   "source": [
    "<h3>Assignment 3: Simple Calculator</h3>\n",
    "\n",
    "Objective: Use conditional statements to perform basic arithmetic operations.\n",
    "\n",
    "Task: Write a program that functions as a simple calculator, performing addition, subtraction, multiplication, or division based on user input.\n",
    "\n",
    "Requirements:\n",
    "1.\tPrompt the user to input a number, an operator (+, -, *, /), and another number.\n",
    "2.\tUse conditional statements to determine the operation to be performed based on the operator input.\n",
    "3.\tPerform the corresponding arithmetic operation.\n",
    "4.\tPrint the result of the computation."
   ]
  },
  {
   "cell_type": "code",
   "execution_count": null,
   "id": "43b1c2b4",
   "metadata": {},
   "outputs": [],
   "source": [
    "num1 = float(input(\"Enter the first number: \"))\n",
    "operator = input(\"Enter an operator (+, -, *, /): \")\n",
    "num2 = float(input(\"Enter the second number: \"))\n",
    "\n",
    "if operator == \"+\":\n",
    "  result = num1 + num2\n",
    "elif operator == \"-\":\n",
    "  result = num1 - num2\n",
    "elif operator == \"*\":\n",
    "  result = num1 * num2\n",
    "elif operator == \"/\":\n",
    "  if num2 == 0:\n",
    "    print(\"Error: Division by zero\")\n",
    "  else:\n",
    "    result = num1 / num2\n",
    "else:\n",
    "  print(\"Invalid operator\")\n",
    "\n",
    "print(\"Result:\", result)\n"
   ]
  }
 ],
 "metadata": {
  "kernelspec": {
   "display_name": "Python 3 (ipykernel)",
   "language": "python",
   "name": "python3"
  },
  "language_info": {
   "codemirror_mode": {
    "name": "ipython",
    "version": 3
   },
   "file_extension": ".py",
   "mimetype": "text/x-python",
   "name": "python",
   "nbconvert_exporter": "python",
   "pygments_lexer": "ipython3",
   "version": "3.12.4"
  }
 },
 "nbformat": 4,
 "nbformat_minor": 5
}
