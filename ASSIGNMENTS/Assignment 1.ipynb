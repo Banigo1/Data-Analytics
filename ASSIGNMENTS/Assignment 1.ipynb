{
 "cells": [
  {
   "cell_type": "markdown",
   "metadata": {},
   "source": [
    "    Assignment 1: Number Classification\n",
    "\n",
    "Objective: Use conditional statements to classify numbers.\n",
    "\n",
    "Task: Write a program that asks the user to enter a number and checks whether the number is positive, negative, or zero. Additionally, check if the number is even or odd.\n",
    "\n",
    "Requirements:\n",
    "1.\tPrompt the user to input a number.\n",
    "2.\tUse conditional statements to determine if the number is positive, negative, or zero.\n",
    "3.\tUse conditional statements to determine if the number is even or odd.\n",
    "4.\tPrint appropriate messages for each classification.\n"
   ]
  },
  {
   "cell_type": "code",
   "execution_count": 1,
   "metadata": {},
   "outputs": [
    {
     "ename": "ValueError",
     "evalue": "invalid literal for int() with base 10: ''",
     "output_type": "error",
     "traceback": [
      "\u001b[1;31m---------------------------------------------------------------------------\u001b[0m",
      "\u001b[1;31mValueError\u001b[0m                                Traceback (most recent call last)",
      "Cell \u001b[1;32mIn[1], line 1\u001b[0m\n\u001b[1;32m----> 1\u001b[0m number \u001b[38;5;241m=\u001b[39m \u001b[38;5;28mint\u001b[39m(\u001b[38;5;28minput\u001b[39m(\u001b[38;5;124m\"\u001b[39m\u001b[38;5;124mEnter a number:\u001b[39m\u001b[38;5;124m\"\u001b[39m))\n\u001b[0;32m      3\u001b[0m \u001b[38;5;28;01mif\u001b[39;00m number \u001b[38;5;241m>\u001b[39m \u001b[38;5;241m0\u001b[39m:\n\u001b[0;32m      4\u001b[0m         \u001b[38;5;28mprint\u001b[39m(\u001b[38;5;124m\"\u001b[39m\u001b[38;5;124mThis number is positive.\u001b[39m\u001b[38;5;124m\"\u001b[39m)\n",
      "\u001b[1;31mValueError\u001b[0m: invalid literal for int() with base 10: ''"
     ]
    }
   ],
   "source": [
    "number = int(input(\"Enter a number:\"))\n",
    "\n",
    "if number > 0:\n",
    "        print(\"This number is positive.\")\n",
    "elif number < 0:\n",
    "        print(\"This number is negative\")\n",
    "else:\n",
    "        print(\"This number is negative.\")\n",
    "\n",
    "if number % 2==0:\n",
    "        print(\"This number is even.\")\n",
    "else:\n",
    "        print(\"This number is odd.\")\n",
    "        "
   ]
  }
 ],
 "metadata": {
  "kernelspec": {
   "display_name": "base",
   "language": "python",
   "name": "python3"
  },
  "language_info": {
   "codemirror_mode": {
    "name": "ipython",
    "version": 3
   },
   "file_extension": ".py",
   "mimetype": "text/x-python",
   "name": "python",
   "nbconvert_exporter": "python",
   "pygments_lexer": "ipython3",
   "version": "3.12.4"
  }
 },
 "nbformat": 4,
 "nbformat_minor": 2
}
