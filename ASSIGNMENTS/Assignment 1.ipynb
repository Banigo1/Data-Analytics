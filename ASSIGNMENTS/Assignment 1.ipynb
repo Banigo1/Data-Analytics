{
 "cells": [
  {
   "cell_type": "markdown",
   "metadata": {},
   "source": [
    "<h3>Assignment 1: Number Classification</h3>\n",
    "\n",
    "Objective: Use conditional statements to classify numbers.\n",
    "\n",
    "Task: Write a program that asks the user to enter a number and checks whether the number is positive, negative, or zero. Additionally, check if the number is even or odd.\n",
    "\n",
    "Requirements:\n",
    "1.\tPrompt the user to input a number.\n",
    "2.\tUse conditional statements to determine if the number is positive, negative, or zero.\n",
    "3.\tUse conditional statements to determine if the number is even or odd.\n",
    "4.\tPrint appropriate messages for each classification.\n"
   ]
  },
  {
   "cell_type": "code",
   "execution_count": null,
   "metadata": {},
   "outputs": [],
   "source": [
    "number = int(input(\"Enter a number:\"))\n",
    "\n",
    "if number > 0:\n",
    "        print(\"This number is positive.\")\n",
    "elif number < 0:\n",
    "        print(\"This number is negative\")\n",
    "else:\n",
    "        print(\"This number is negative.\")\n",
    "\n",
    "if number % 2==0:\n",
    "        print(\"This number is even.\")\n",
    "else:\n",
    "        print(\"This number is odd.\")"
   ]
  }
 ],
 "metadata": {
  "language_info": {
   "name": "python"
  }
 },
 "nbformat": 4,
 "nbformat_minor": 2
}
