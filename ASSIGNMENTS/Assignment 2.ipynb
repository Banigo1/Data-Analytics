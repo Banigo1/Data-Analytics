{
 "cells": [
  {
   "cell_type": "markdown",
   "metadata": {},
   "source": [
    "<h3>Assignment 2: Prime Numbers</h3>\n",
    "\n",
    "Objective: Use loops and conditional statements to find prime numbers.\n",
    "\n",
    "Task: Write a program that prints all prime numbers between 1 and 50.\n",
    "\n",
    "Requirements:\n",
    "1.\tUse a for loop to iterate through numbers from 1 to 50.\n",
    "2.\tUse a nested for loop and conditional statements to check if a number is prime.\n",
    "3.\tPrint each prime number."
   ]
  },
  {
   "cell_type": "code",
   "execution_count": null,
   "metadata": {},
   "outputs": [],
   "source": [
    "for nums in range(2, 51):\n",
    "    if_prime = True\n",
    "    for i in range (2, nums):\n",
    "        if nums % i == 0:\n",
    "            if_prime = False\n",
    "            break\n",
    "    if if_prime:\n",
    "        print(nums)"
   ]
  }
 ],
 "metadata": {
  "kernelspec": {
   "display_name": "base",
   "language": "python",
   "name": "python3"
  },
  "language_info": {
   "codemirror_mode": {
    "name": "ipython",
    "version": 3
   },
   "file_extension": ".py",
   "mimetype": "text/x-python",
   "name": "python",
   "nbconvert_exporter": "python",
   "pygments_lexer": "ipython3",
   "version": "3.12.4"
  }
 },
 "nbformat": 4,
 "nbformat_minor": 2
}
