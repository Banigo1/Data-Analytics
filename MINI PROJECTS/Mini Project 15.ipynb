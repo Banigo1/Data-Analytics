{
 "cells": [
  {
   "cell_type": "markdown",
   "metadata": {},
   "source": [
    "<h4>Project 15: Text Analyzer</h4>\n",
    "\n",
    "Objective: Build a program that analyzes a piece of text and provides basic statistics.\n",
    "\n",
    "Tasks:\n",
    "\n",
    "1.\tInput: Ask the user to enter a piece of text.\n",
    "2.\tWord Count: Count the number of words in the text.\n",
    "3.\tCharacter Count: Count the number of characters in the text.\n",
    "4.\tLoop: Use a loop to count specific features like the number of vowels.\n",
    "5.\tOutput: Display the results to the user.\n"
   ]
  },
  {
   "cell_type": "code",
   "execution_count": 1,
   "metadata": {},
   "outputs": [],
   "source": [
    "text = input(\"Enter a piece of text: \")\n",
    "\n",
    "words = text.split()\n",
    "word_count = len(words)\n",
    "character_count = len(text)\n",
    "vowel_count = 0\n",
    "vowels = \"aeiou\"\n",
    "\n",
    "for char in text:\n",
    "    if char.lower() in vowels:\n",
    "        vowel_count += 1\n",
    "\n",
    "print(\"Word count:\", word_count)\n",
    "print(\"Character count:\", character_count)\n",
    "print(\"Vowel count:\", vowel_count)\n"
   ]
  }
 ],
 "metadata": {
  "kernelspec": {
   "display_name": "base",
   "language": "python",
   "name": "python3"
  },
  "language_info": {
   "codemirror_mode": {
    "name": "ipython",
    "version": 3
   },
   "file_extension": ".py",
   "mimetype": "text/x-python",
   "name": "python",
   "nbconvert_exporter": "python",
   "pygments_lexer": "ipython3",
   "version": "3.12.4"
  }
 },
 "nbformat": 4,
 "nbformat_minor": 2
}
