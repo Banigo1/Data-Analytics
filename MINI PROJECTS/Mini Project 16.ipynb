{
 "cells": [
  {
   "cell_type": "markdown",
   "metadata": {},
   "source": [
    "Mini Project 16: Tuple Basics\n",
    "\n",
    "    1.\tCreate a Tuple:\n",
    "\n",
    "•\tCreate a tuple called fruits that contains the names of five different fruits.\n",
    "\n",
    "•\tPrint the fruits tuple.\n",
    "\n",
    "\n",
    "    2.\tAccessing Elements:\n",
    "\n",
    "•\tAccess and print the first and last elements of the fruits tuple.\n",
    "\n",
    "•\tTry to change the second element of the fruits tuple. What happens?\n",
    "\n",
    "\n",
    "    3.\tSlicing a Tuple:\n",
    "\n",
    "•\tCreate a new tuple by slicing the fruits tuple to include the middle three fruits.\n",
    "\n",
    "•\tPrint the new tuple.\n"
   ]
  },
  {
   "cell_type": "code",
   "execution_count": 9,
   "metadata": {},
   "outputs": [
    {
     "name": "stdout",
     "output_type": "stream",
     "text": [
      "Fruits tuple: ('apple', 'banana', 'cherry', 'date', 'elderberry')\n",
      "First fruit: apple\n",
      "Last fruit: elderberry\n",
      "Error: 'tuple' object does not support item assignment\n",
      "Middle fruits: ('banana', 'cherry', 'date')\n"
     ]
    }
   ],
   "source": [
    "# 1. Create a Tuple\n",
    "fruits = ('apple', 'banana', 'cherry', 'date', 'orange')\n",
    "print(\"Fruits tuple:\", fruits)\n",
    "\n",
    "# 2. Accessing Elements\n",
    "first_fruit = fruits[0]\n",
    "last_fruit = fruits[-1]\n",
    "print(\"First fruit:\", first_fruit)\n",
    "print(\"Last fruit:\", last_fruit)\n",
    "\n",
    "# Attempting to change the second element raised a TypeError 'tuple' object does not support item assignment\n",
    "try:\n",
    "    fruits[1] = 'mango'\n",
    "except TypeError as e:\n",
    "    print(\"Error:\", e)\n",
    "\n",
    "# 3. Slicing a Tuple\n",
    "middle_fruits = fruits[1:4]  # This includes elements at index 1, 2, and 3\n",
    "print(\"Middle fruits:\", middle_fruits)\n"
   ]
  }
 ],
 "metadata": {
  "kernelspec": {
   "display_name": "base",
   "language": "python",
   "name": "python3"
  },
  "language_info": {
   "codemirror_mode": {
    "name": "ipython",
    "version": 3
   },
   "file_extension": ".py",
   "mimetype": "text/x-python",
   "name": "python",
   "nbconvert_exporter": "python",
   "pygments_lexer": "ipython3",
   "version": "3.12.4"
  }
 },
 "nbformat": 4,
 "nbformat_minor": 2
}
