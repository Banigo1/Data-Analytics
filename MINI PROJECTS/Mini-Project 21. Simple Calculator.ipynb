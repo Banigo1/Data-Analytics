{
 "cells": [
  {
   "cell_type": "markdown",
   "metadata": {},
   "source": [
    "    Mini-Project: Simple Calculator\n",
    "\n",
    "•\tDescription: Create a simple calculator that can perform basic arithmetic operations (addition, subtraction, multiplication, division) using functions.\n",
    "\n",
    "•\tInstructions:\n",
    "\n",
    "1.\tDefine functions for each operation: add, subtract, multiply, and divide\n",
    "\n",
    "2.\tCreate a main function that takes user input to select an operation and input numbers.\n",
    "\n",
    "3.\tUse the functions to perform the calculation and display the result\n"
   ]
  },
  {
   "cell_type": "code",
   "execution_count": null,
   "metadata": {},
   "outputs": [],
   "source": [
    "# Function to add two numbers\n",
    "def add(x, y):\n",
    "    return x + y\n",
    "\n",
    "# Function to subtract two numbers\n",
    "def subtract(x, y):\n",
    "    return x - y\n",
    "\n",
    "# Function to multiply two numbers\n",
    "def multiply(x, y):\n",
    "    return x * y\n",
    "\n",
    "# Function to divide two numbers\n",
    "def divide(x, y):\n",
    "    if y == 0:\n",
    "        return \"undefined.\"\n",
    "    return x / y\n",
    "\n",
    "# Main function to run the calculator\n",
    "def main():\n",
    "    print(\"Select operation:\")\n",
    "    print(\"1. Add\")\n",
    "    print(\"2. Subtract\")\n",
    "    print(\"3. Multiply\")\n",
    "    print(\"4. Divide\")\n",
    "\n",
    "    while True:\n",
    "        choice = input(\"Select operation (1/2/3/4): \")\n",
    "\n",
    "        # Check if choice is one of the four options\n",
    "        if choice in ('1', '2', '3', '4'):\n",
    "            num1 = float(input(\"Enter first number: \"))\n",
    "            num2 = float(input(\"Enter second number: \"))\n",
    "\n",
    "            if choice == '1':\n",
    "                print(f\"\\n{num1} + {num2} = {add(num1, num2)}\")\n",
    "            elif choice == '2':\n",
    "                print(f\"\\n{num1} - {num2} = {subtract(num1, num2)}\")\n",
    "            elif choice == '3':\n",
    "                print(f\"\\n{num1} * {num2} = {multiply(num1, num2)}\")\n",
    "            elif choice == '4':\n",
    "                print(f\"\\n{num1} / {num2} = {divide(num1, num2)}\")\n",
    "        else:\n",
    "            print(\"\\nInvalid input\")\n",
    "\n",
    "        # Ask if the user wants to perform another calculation\n",
    "        next_calculation = input(\"Do you want to perform another calculation? (yes/no): \")\n",
    "        if next_calculation.lower() != 'yes':\n",
    "            break\n",
    "\n",
    "# Run the calculator\n",
    "if __name__ == \"__main__\":\n",
    "    main()"
   ]
  }
 ],
 "metadata": {
  "kernelspec": {
   "display_name": "base",
   "language": "python",
   "name": "python3"
  },
  "language_info": {
   "codemirror_mode": {
    "name": "ipython",
    "version": 3
   },
   "file_extension": ".py",
   "mimetype": "text/x-python",
   "name": "python",
   "nbconvert_exporter": "python",
   "pygments_lexer": "ipython3",
   "version": "3.12.4"
  }
 },
 "nbformat": 4,
 "nbformat_minor": 2
}
