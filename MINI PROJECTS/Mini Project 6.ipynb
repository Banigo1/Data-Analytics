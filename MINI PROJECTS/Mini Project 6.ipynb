{
 "cells": [
  {
   "cell_type": "markdown",
   "metadata": {},
   "source": [
    "<h4>Mini Project 6: Looping Through a List</h4>\n",
    "\n",
    "\n",
    "Elements to Use: [\"red\", \"blue\", \"green\", \"yellow\", \"orange\", \"purple\"] <br>\n",
    "\n",
    "Task:\n",
    "\n",
    "\n",
    "• Use a for loop to iterate over the list and print each element. <br>\n",
    "• Use another for loop to print the elements along with their indices.\n"
   ]
  },
  {
   "cell_type": "code",
   "execution_count": 45,
   "metadata": {},
   "outputs": [
    {
     "name": "stdout",
     "output_type": "stream",
     "text": [
      "red\n",
      "------------------------\n",
      "blue\n",
      "------------------------\n",
      "green\n",
      "------------------------\n",
      "yellow\n",
      "------------------------\n",
      "orange\n",
      "------------------------\n",
      "purple\n",
      "------------------------\n",
      "\n",
      "Index 0: red\n",
      "------------------------\n",
      "\n",
      "Index 1: blue\n",
      "------------------------\n",
      "\n",
      "Index 2: green\n",
      "------------------------\n",
      "\n",
      "Index 3: yellow\n",
      "------------------------\n",
      "\n",
      "Index 4: orange\n",
      "------------------------\n",
      "\n",
      "Index 5: purple\n",
      "------------------------\n"
     ]
    }
   ],
   "source": [
    "myColors = [\"red\", \"blue\", \"green\", \"yellow\", \"orange\", \"purple\"]\n",
    "\n",
    "for color in myColors:\n",
    "    \n",
    "    print(color)\n",
    "    print(\"------------------------\")\n",
    "    \n",
    "for i in range(len(myColors)):\n",
    "    print(f\"\\nIndex {i}: {myColors[i]}\")\n",
    "    print(\"------------------------\")\n",
    "\n",
    "\n"
   ]
  }
 ],
 "metadata": {
  "kernelspec": {
   "display_name": "base",
   "language": "python",
   "name": "python3"
  },
  "language_info": {
   "codemirror_mode": {
    "name": "ipython",
    "version": 3
   },
   "file_extension": ".py",
   "mimetype": "text/x-python",
   "name": "python",
   "nbconvert_exporter": "python",
   "pygments_lexer": "ipython3",
   "version": "3.12.4"
  }
 },
 "nbformat": 4,
 "nbformat_minor": 2
}
