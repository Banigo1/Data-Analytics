{
 "cells": [
  {
   "cell_type": "markdown",
   "metadata": {},
   "source": [
    "    Mini Project 25\n",
    "    \n",
    " Lambda Functions: Data Transformation Pipeline\n",
    "\n",
    "Description: Build a data transformation pipeline using map(), filter(), and lambda functions.\n",
    "\n",
    "    Tasks:\n",
    "\n",
    "•\tCreate a pipeline that processes a list of numbers:\n",
    "\n",
    "o\tFirst, filter out even numbers.\n",
    "\n",
    "o\tThen, square the remaining odd numbers.\n",
    "\n",
    "o\tFinally, sort the squared numbers in descending order.\n"
   ]
  },
  {
   "cell_type": "code",
   "execution_count": 1,
   "metadata": {},
   "outputs": [],
   "source": [
    "numbers = [1, 2, 3, 4, 5, 6, 7, 8, 9, 10]\n",
    "\n",
    "# Pipeline: filter, square, and sort\n",
    "transformed_numbers = sorted(\n",
    "    map(lambda x: x**2, filter(lambda x: x % 2 != 0, numbers)),\n",
    "    reverse=True\n",
    ")"
   ]
  }
 ],
 "metadata": {
  "kernelspec": {
   "display_name": "base",
   "language": "python",
   "name": "python3"
  },
  "language_info": {
   "codemirror_mode": {
    "name": "ipython",
    "version": 3
   },
   "file_extension": ".py",
   "mimetype": "text/x-python",
   "name": "python",
   "nbconvert_exporter": "python",
   "pygments_lexer": "ipython3",
   "version": "3.12.4"
  }
 },
 "nbformat": 4,
 "nbformat_minor": 2
}
