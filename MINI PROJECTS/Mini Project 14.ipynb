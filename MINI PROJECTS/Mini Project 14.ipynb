{
 "cells": [
  {
   "cell_type": "markdown",
   "metadata": {},
   "source": [
    "<h4>Project 14: Simple Number Guessing Game</h4>\n",
    "\n",
    "Objective: Create a basic number guessing game where the user has to guess a number within a certain range.\n",
    "\n",
    "Tasks:\n",
    "\n",
    "1.\tGenerate a Number: Generate a random number between 1 and 50.\n",
    "2.\tUser Guess: Prompt the user to guess the number.\n",
    "3.\tComparison: Use conditional statements to check if the guessed number is too high, too low, or correct.\n",
    "4.\tLoop: Allow the user multiple attempts to guess the number by using a loop.\n",
    "5.\tOutput: Provide feedback on each guess until the correct number is guessed.\n"
   ]
  },
  {
   "cell_type": "code",
   "execution_count": 3,
   "metadata": {},
   "outputs": [],
   "source": [
    "import random\n",
    "\n",
    "number = random.randint(1, 50)\n",
    "guess = int(input(\"Guess a number: \"))\n",
    "\n",
    "if guess < number:\n",
    "    print(\"low! 🪫\")\n",
    "elif guess > number:\n",
    "    print(\"high! ⚡\")\n",
    "else:\n",
    "    print(\"Correct! 👍\")\n",
    "\n",
    "attempts = 1\n",
    "max_attempts = 5\n",
    "\n",
    "while guess != number and attempts < max_attempts:\n",
    "    attempts += 1\n",
    "    guess = int(input(\"Wrong guess. Try again: \"))\n",
    "\n",
    "if guess == number:\n",
    "    print(\"Congratulations! You guessed the number correctly!\")\n",
    "else:\n",
    "    print(\"Sorry, you ran out of attempts. The number was\", number)\n"
   ]
  }
 ],
 "metadata": {
  "kernelspec": {
   "display_name": "base",
   "language": "python",
   "name": "python3"
  },
  "language_info": {
   "codemirror_mode": {
    "name": "ipython",
    "version": 3
   },
   "file_extension": ".py",
   "mimetype": "text/x-python",
   "name": "python",
   "nbconvert_exporter": "python",
   "pygments_lexer": "ipython3",
   "version": "3.12.4"
  }
 },
 "nbformat": 4,
 "nbformat_minor": 2
}
