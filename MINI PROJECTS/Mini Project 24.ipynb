{
 "cells": [
  {
   "cell_type": "markdown",
   "metadata": {},
   "source": [
    "    Mini Project 24\n",
    "    \n",
    "Recursion: Recursive Palindrome Checker\n",
    "\n",
    "Description: Build a recursive function to check if a string is a palindrome.\n",
    "\n",
    "    Tasks:\n",
    "\n",
    "•\tImplement a recursive function that checks if a given string reads the same forwards and backward.\n",
    "\n",
    "•\tExtend the function to ignore case, spaces, and punctuation.\n",
    "\n",
    "•\tAdd a feature to check for palindromes in a list of strings.\n"
   ]
  },
  {
   "cell_type": "code",
   "execution_count": 1,
   "metadata": {},
   "outputs": [],
   "source": [
    "import string\n",
    "\n",
    "def is_palindrome(s):\n",
    "    # Normalize the string: remove spaces, punctuation, and convert to lowercase\n",
    "    s = ''.join(char.lower() for char in s if char.isalnum())\n",
    "    \n",
    "    # Base case: if the string is empty or has one character\n",
    "    if len(s) <= 1:\n",
    "        return True \n",
    "    \n",
    "    # Check the first and last characters\n",
    "    if s[0] == s[-1]:\n",
    "        return is_palindrome(s[1:-1])\n",
    "    \n",
    "    return False\n",
    "\n",
    "def check_palindromes_in_list(strings):\n",
    "    return [s for s in strings if is_palindrome(s)]\n"
   ]
  },
  {
   "cell_type": "code",
   "execution_count": 5,
   "metadata": {},
   "outputs": [
    {
     "data": {
      "text/plain": [
       "True"
      ]
     },
     "execution_count": 5,
     "metadata": {},
     "output_type": "execute_result"
    }
   ],
   "source": [
    "is_palindrome('ada')"
   ]
  }
 ],
 "metadata": {
  "kernelspec": {
   "display_name": "Python 3 (ipykernel)",
   "language": "python",
   "name": "python3"
  },
  "language_info": {
   "codemirror_mode": {
    "name": "ipython",
    "version": 3
   },
   "file_extension": ".py",
   "mimetype": "text/x-python",
   "name": "python",
   "nbconvert_exporter": "python",
   "pygments_lexer": "ipython3",
   "version": "3.12.4"
  }
 },
 "nbformat": 4,
 "nbformat_minor": 4
}
