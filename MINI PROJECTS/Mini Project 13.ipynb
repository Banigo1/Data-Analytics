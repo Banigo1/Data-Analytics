{
 "cells": [
  {
   "cell_type": "markdown",
   "metadata": {},
   "source": [
    "<h4>Project 13: Sentence Reverser</h4>\n",
    "\n",
    "Objective: Create a program that reverses the words in a sentence provided by the user.\n",
    "\n",
    "Tasks:\n",
    "\n",
    "1.\tInput: Prompt the user to enter a sentence.\n",
    "2.\tString Manipulation: Split the sentence into words, reverse the list of words, and join them back into a string.\n",
    "3.\tOutput: Display the reversed sentence.\n"
   ]
  },
  {
   "cell_type": "code",
   "execution_count": null,
   "metadata": {},
   "outputs": [],
   "source": [
    "sentence = input(\"Enter a sentence: \")\n",
    "\n",
    "words = sentence.split()\n",
    "reversed_words = words[::-1]\n",
    "reversed_sentence = \" \".join(reversed_words)\n",
    "\n",
    "print(\"Reversed sentence:\", reversed_sentence)"
   ]
  }
 ],
 "metadata": {
  "language_info": {
   "name": "python"
  }
 },
 "nbformat": 4,
 "nbformat_minor": 2
}
