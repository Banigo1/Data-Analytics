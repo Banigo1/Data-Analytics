{
 "cells": [
  {
   "cell_type": "markdown",
   "metadata": {},
   "source": [
    "<h4>Project 10: Temperature Converter</h4>\n",
    "\n",
    "Objective: Create a program that converts temperatures between Celsius and Fahrenheit.\n",
    "\n",
    "Tasks:\n",
    "\n",
    "1. Input: Prompt the user to enter a temperature value and the unit (Celsius or Fahrenheit).\n",
    "2. Conversion: Use conditional statements to convert the temperature to the other unit.\n",
    "3. Output: Display the converted temperature.\n"
   ]
  },
  {
   "cell_type": "code",
   "execution_count": 19,
   "metadata": {},
   "outputs": [
    {
     "name": "stdout",
     "output_type": "stream",
     "text": [
      "300.00 degree Fahreheit = 148.89 degree Celsius\n"
     ]
    }
   ],
   "source": [
    "temperature = float(input(\"Enter temperature: \"))\n",
    "unit = input(\"Enter C for Celsius, or F for Fahrenheit: \")\n",
    "\n",
    "if unit == \"C\" or unit == \"c\":\n",
    "    fahrenheit = (temperature * 9/5) + 32\n",
    "    print(f\"{temperature} degrees Fahrenheit = {fahrenheit:.2f} degrees Celsius.\")\n",
    "elif unit == \"F\" or unit == \"f\":\n",
    "    celsius = (temperature - 32) * 5/9\n",
    "    print(f\"{temperature:.2f} degree Fahreheit = {celsius:.2f} degree Celsius\")\n",
    "else:\n",
    "    print(\"Invalid unit. Please enter C for Celsius or F for Fahrenheit\")"
   ]
  }
 ],
 "metadata": {
  "kernelspec": {
   "display_name": "base",
   "language": "python",
   "name": "python3"
  },
  "language_info": {
   "codemirror_mode": {
    "name": "ipython",
    "version": 3
   },
   "file_extension": ".py",
   "mimetype": "text/x-python",
   "name": "python",
   "nbconvert_exporter": "python",
   "pygments_lexer": "ipython3",
   "version": "3.12.4"
  }
 },
 "nbformat": 4,
 "nbformat_minor": 2
}
