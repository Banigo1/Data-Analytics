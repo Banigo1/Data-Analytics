{
 "cells": [
  {
   "cell_type": "markdown",
   "metadata": {},
   "source": [
    "<h4>Mini Project 8: List Comprehension</h4>\n",
    "\n",
    "Elements to Use: [1, 2, 3, 4, 5, 6, 7, 8, 9, 10]\n",
    "\n",
    "Task:\n",
    "\n",
    "• Use list comprehension to create a new list containing the squares of each integer.<br>\n",
    "• Print the original list and the new list.\n"
   ]
  },
  {
   "cell_type": "code",
   "execution_count": 10,
   "metadata": {},
   "outputs": [
    {
     "name": "stdout",
     "output_type": "stream",
     "text": [
      "\n",
      " Original list: [1, 2, 3, 4, 5, 6, 7, 8, 9, 10]\n",
      "\n",
      " List of square of integers: [1, 4, 9, 16, 25, 36, 49, 64, 81, 100]\n"
     ]
    }
   ],
   "source": [
    "numbers = [1, 2, 3, 4, 5, 6, 7, 8, 9, 10]\n",
    "\n",
    "intsquares = [i**2 for i in numbers]\n",
    "\n",
    "print(\"\\n Original list:\", numbers)\n",
    "print(\"\\n List of square of integers:\", intsquares)\n"
   ]
  }
 ],
 "metadata": {
  "kernelspec": {
   "display_name": "base",
   "language": "python",
   "name": "python3"
  },
  "language_info": {
   "codemirror_mode": {
    "name": "ipython",
    "version": 3
   },
   "file_extension": ".py",
   "mimetype": "text/x-python",
   "name": "python",
   "nbconvert_exporter": "python",
   "pygments_lexer": "ipython3",
   "version": "3.12.4"
  }
 },
 "nbformat": 4,
 "nbformat_minor": 2
}
