{
 "cells": [
  {
   "cell_type": "markdown",
   "metadata": {},
   "source": [
    "Mini Project 17: Tuple Operations\n",
    "\n",
    "    1.\tConcatenation:\n",
    "\n",
    "•\tCreate another tuple called vegetables with three vegetable names.\n",
    "\n",
    "•\tConcatenate the fruits and vegetables tuples into a new tuple called groceries.\n",
    "\n",
    "•\tPrint the groceries tuple.\n",
    "\n",
    "    2.\tTuple Unpacking:\n",
    "\n",
    "•\tUnpack the first three elements of the fruits tuple into three variables and print them.\n",
    "\n",
    "•\tUse the * operator to unpack the remaining elements of the fruits tuple into a list and print the list.\n",
    "\n",
    "    3.\tLength and Membership:\n",
    "    \n",
    "•\tFind and print the length of the grocery’s tuple.\n",
    "\n",
    "•\tCheck if 'apple' is in the groceries tuple and print the result.\n"
   ]
  },
  {
   "cell_type": "code",
   "execution_count": 5,
   "metadata": {},
   "outputs": [
    {
     "name": "stdout",
     "output_type": "stream",
     "text": [
      "Groceries tuple: ('apple', 'banana', 'cherry', 'date', 'elderberry', 'carrot', 'broccoli', 'spinach')\n",
      "First three fruits: apple banana cherry\n",
      "Remaining fruits: ['date', 'elderberry']\n",
      "Length of groceries tuple: 8\n",
      "Is 'apple' in groceries tuple? True\n"
     ]
    }
   ],
   "source": [
    "# Mini Project 17: Tuple Operations\n",
    "\n",
    "# 1. Concatenation\n",
    "vegetables = ('carrot', 'broccoli', 'spinach')\n",
    "fruits = ('apple', 'banana', 'cherry', 'date', 'elderberry')\n",
    "\n",
    "# Concatenate fruits and vegetables into a new tuple called groceries\n",
    "groceries = fruits + vegetables\n",
    "print(\"Groceries tuple:\", groceries)\n",
    "\n",
    "# 2. Tuple Unpacking\n",
    "# Unpacking the first three elements of the fruits tuple into variables\n",
    "fruit1, fruit2, fruit3 = fruits[:3]\n",
    "print(\"First three fruits:\", fruit1, fruit2, fruit3)\n",
    "\n",
    "# Using the * operator to unpack the remaining elements into a list\n",
    "*remaining_fruits, = fruits[3:]  # This will unpack the remaining fruits into a list\n",
    "print(\"Remaining fruits:\", (remaining_fruits))\n",
    "\n",
    "# 3. Length and Membership\n",
    "# Find and print the length of the groceries tuple\n",
    "length_of_groceries = len(groceries)\n",
    "print(\"Length of groceries tuple:\", length_of_groceries)\n",
    "\n",
    "# Check if 'apple' is in the groceries tuple and print the result\n",
    "is_apple_in_groceries = 'apple' in groceries\n",
    "print(\"Is 'apple' in groceries tuple?\", is_apple_in_groceries)\n"
   ]
  },
  {
   "cell_type": "code",
   "execution_count": null,
   "metadata": {},
   "outputs": [],
   "source": []
  }
 ],
 "metadata": {
  "kernelspec": {
   "display_name": "Python 3 (ipykernel)",
   "language": "python",
   "name": "python3"
  },
  "language_info": {
   "codemirror_mode": {
    "name": "ipython",
    "version": 3
   },
   "file_extension": ".py",
   "mimetype": "text/x-python",
   "name": "python",
   "nbconvert_exporter": "python",
   "pygments_lexer": "ipython3",
   "version": "3.12.4"
  }
 },
 "nbformat": 4,
 "nbformat_minor": 4
}
