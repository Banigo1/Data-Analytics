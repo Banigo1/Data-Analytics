{
 "cells": [
  {
   "cell_type": "markdown",
   "metadata": {},
   "source": [
    "Project 11: Simple ATM Simulator\n",
    "\n",
    "Objective: Develop a basic ATM simulator that allows users to check their balance, deposit money, and withdraw money.\n",
    "\n",
    "Tasks:\n",
    "\n",
    "1.\tInitial Setup: Start with a predefined balance.\n",
    "2.\tMenu: Display a menu with options to check balance, deposit money, withdraw money, or exit.\n",
    "3.\tOperations: Use conditional statements to perform the selected operation.\n",
    "4.\tLoop: Allow the user to perform multiple operations until they choose to exit."
   ]
  },
  {
   "cell_type": "code",
   "execution_count": null,
   "metadata": {},
   "outputs": [],
   "source": [
    "balance = 100000000\n",
    "\n",
    "print(\"1. Account Balance\")\n",
    "print(\"2. Deposit\")\n",
    "print(\"3. Withdrawal\")\n",
    "print(\"4. Exit\")\n",
    "\n",
    "while True:\n",
    "    try:\n",
    "        user_input = int(input(\"\"))\n",
    "  \n",
    "        if user_input == 1:\n",
    "            print(\"\\nYour balance is:\", balance)\n",
    "\n",
    "        elif user_input == 2:\n",
    "            deposit_amount = float(input(\"Enter deposit amount: \"))\n",
    "            balance += deposit_amount\n",
    "            print(\"Deposit successful. New balance:\", balance)\n",
    "\n",
    "        elif user_input == 3:\n",
    "            withdraw_amount = float(input(\"\\nEnter withdrawal amount: \"))\n",
    "            if withdraw_amount <= balance:\n",
    "                balance -= withdraw_amount\n",
    "                print(\"\\nWithdrawal successful. New balance:\", balance)\n",
    "            else:\n",
    "                print(\"\\nInsufficient funds.\")\n",
    "\n",
    "        elif user_input == 4:\n",
    "            print(\"Thank you for using Banigo ATM!\")\n",
    "            break\n",
    "        else:\n",
    "            print(\"Invalid input. Please try again.\")\n",
    "    except ValueError:\n",
    "        print(\"\\nInput error. Please try again.\")\n",
    "\n",
    "  \n"
   ]
  }
 ],
 "metadata": {
  "kernelspec": {
   "display_name": "Python 3 (ipykernel)",
   "language": "python",
   "name": "python3"
  },
  "language_info": {
   "codemirror_mode": {
    "name": "ipython",
    "version": 3
   },
   "file_extension": ".py",
   "mimetype": "text/x-python",
   "name": "python",
   "nbconvert_exporter": "python",
   "pygments_lexer": "ipython3",
   "version": "3.12.4"
  }
 },
 "nbformat": 4,
 "nbformat_minor": 4
}
