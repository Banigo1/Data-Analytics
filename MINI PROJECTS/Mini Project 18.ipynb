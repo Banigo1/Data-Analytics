{
 "cells": [
  {
   "cell_type": "markdown",
   "metadata": {},
   "source": [
    "Mini Project 18: Tuple Methods and Functions\n",
    "\n",
    "    1.\tIndex and Count:\n",
    "\n",
    "•\tCreate a tuple called numbers with the elements: 1, 2, 3, 2, 4, 2, 5.\n",
    "\n",
    "•\tUse the index ( ) method to find the first occurrence of the number 2.\n",
    "\n",
    "•\tUse the count ( ) method to find how many times 2 appears in the tuple.\n",
    "\n",
    "    2.\tSorting and Reversing:\n",
    "•\tCreate a tuple of integers and sort it in ascending order without changing the original tuple.\n",
    "\n",
    "•\tReverse the tuple using slicing and print the reversed tuple.\n"
   ]
  },
  {
   "cell_type": "code",
   "execution_count": 1,
   "metadata": {},
   "outputs": [
    {
     "name": "stdout",
     "output_type": "stream",
     "text": [
      "First occurrence of 2: 1\n",
      "Count of 2 in the tuple: 3\n",
      "Original tuple: (5, 2, 9, 1, 5, 6)\n",
      "Sorted tuple: (1, 2, 5, 5, 6, 9)\n",
      "Reversed tuple: (6, 5, 1, 9, 2, 5)\n"
     ]
    }
   ],
   "source": [
    "# Creating the tuple\n",
    "numbers = (1, 2, 3, 2, 4, 2, 5)\n",
    "\n",
    "# Finding the index of the first occurrence of 2\n",
    "first_occurrence = numbers.index(2)\n",
    "\n",
    "# Counting how many times 2 appears in the tuple\n",
    "count_of_twos = numbers.count(2)\n",
    "\n",
    "print(\"First occurrence of 2:\", first_occurrence)\n",
    "print(\"Count of 2 in the tuple:\", count_of_twos)\n",
    "\n",
    "# Creating a tuple of integers\n",
    "tuple_of_integers = (5, 2, 9, 1, 5, 6)\n",
    "\n",
    "# Sorting the tuple (returns a sorted list)\n",
    "sorted_tuple = tuple(sorted(tuple_of_integers))\n",
    "\n",
    "# Reversing the tuple using slicing\n",
    "reversed_tuple = tuple_of_integers[::-1]\n",
    "\n",
    "print(\"Original tuple:\", tuple_of_integers)\n",
    "print(\"Sorted tuple:\", sorted_tuple)\n",
    "print(\"Reversed tuple:\", reversed_tuple)\n"
   ]
  }
 ],
 "metadata": {
  "kernelspec": {
   "display_name": "base",
   "language": "python",
   "name": "python3"
  },
  "language_info": {
   "codemirror_mode": {
    "name": "ipython",
    "version": 3
   },
   "file_extension": ".py",
   "mimetype": "text/x-python",
   "name": "python",
   "nbconvert_exporter": "python",
   "pygments_lexer": "ipython3",
   "version": "3.12.4"
  }
 },
 "nbformat": 4,
 "nbformat_minor": 2
}
