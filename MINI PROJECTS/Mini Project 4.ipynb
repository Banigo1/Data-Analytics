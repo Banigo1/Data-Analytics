{
 "cells": [
  {
   "cell_type": "markdown",
   "metadata": {},
   "source": [
    "<h4>Mini Project 4: Basic List Operations</h4>\n",
    "\n",
    "Elements to Use: [\"apple\", \"banana\", \"cherry\", \"date\", \"elderberry\"]\n",
    "\n",
    "Tasks:\n",
    "\n",
    "Perform the following operations with the above list:\n",
    "\n",
    "1.\tIndexing: Access and print the second (\"banana\") and fourth (\"date\") elements.\n",
    "\n",
    "2.\tSlicing: Create a sublist containing the second to fourth elements and print it.\n",
    "\n",
    "3.\tAppending: Add a new element \"fig\" to the end of the list.\n",
    "\n",
    "4.\tModifying: Change the third element \"cherry\" to \"coconut\".\n",
    "\n",
    "5.\tRemoving: Remove the first element \"apple\" from the list.\n",
    "\n",
    "6.\tFinally, print the modified list.\n"
   ]
  },
  {
   "cell_type": "code",
   "execution_count": 1,
   "metadata": {},
   "outputs": [
    {
     "name": "stdout",
     "output_type": "stream",
     "text": [
      "banana\n",
      "date\n",
      "['banana', 'cherry', 'date']\n",
      "['banana', 'coconut', 'date', 'elderberry', 'fig']\n"
     ]
    }
   ],
   "source": [
    "myFruits = [\"apple\", \"banana\", \"cherry\", \"date\", \"elderberry\"]\n",
    "\n",
    "# 1. Indexing\n",
    "print(myFruits[1])\n",
    "print(myFruits[3])\n",
    "\n",
    "# 2. Slicing\n",
    "fruitSublist = myFruits[1:4]\n",
    "print(fruitSublist)\n",
    "\n",
    "# 3. Appending\n",
    "myFruits.append(\"fig\")\n",
    "\n",
    "# 4. Modifying\n",
    "myFruits[2] = \"coconut\"\n",
    "\n",
    "# 5. Removing\n",
    "myFruits.remove(\"apple\")\n",
    "\n",
    "# 6. Print the modified list\n",
    "print(myFruits)"
   ]
  }
 ],
 "metadata": {
  "kernelspec": {
   "display_name": "base",
   "language": "python",
   "name": "python3"
  },
  "language_info": {
   "codemirror_mode": {
    "name": "ipython",
    "version": 3
   },
   "file_extension": ".py",
   "mimetype": "text/x-python",
   "name": "python",
   "nbconvert_exporter": "python",
   "pygments_lexer": "ipython3",
   "version": "3.12.4"
  }
 },
 "nbformat": 4,
 "nbformat_minor": 2
}
