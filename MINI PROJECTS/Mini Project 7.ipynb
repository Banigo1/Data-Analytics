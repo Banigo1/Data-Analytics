{
 "cells": [
  {
   "cell_type": "markdown",
   "metadata": {},
   "source": [
    "<h5>Mini Project 7: Counting Occurrences in a List</h5>\n",
    "\n",
    "Elements to Use: [\"apple\", \"banana\", \"apple\", \"cherry\", \"apple\", \"date\", \"banana\", \"apple\"] <br>\n",
    "\n",
    "Task:\n",
    "\n",
    "• Use a loop to count the number of times \"apple\" appears in the list. <br>\n",
    "• Print the element and its count.\n"
   ]
  },
  {
   "cell_type": "code",
   "execution_count": 1,
   "metadata": {},
   "outputs": [
    {
     "name": "stdout",
     "output_type": "stream",
     "text": [
      "apple appeared 4 times in my list.\n"
     ]
    }
   ],
   "source": [
    "myFruits = [\"apple\", \"banana\", \"apple\", \"cherry\", \"apple\", \"date\", \"banana\", \"apple\"]\n",
    "\n",
    "myFruitloops = 0\n",
    "\n",
    "for occurence in myFruits:\n",
    "    if occurence == \"apple\":\n",
    "        myFruitloops += 1\n",
    "\n",
    "print(\"apple appeared\", myFruitloops, \"times in my list.\")"
   ]
  },
  {
   "cell_type": "code",
   "execution_count": null,
   "metadata": {},
   "outputs": [],
   "source": []
  }
 ],
 "metadata": {
  "kernelspec": {
   "display_name": "Python 3 (ipykernel)",
   "language": "python",
   "name": "python3"
  },
  "language_info": {
   "codemirror_mode": {
    "name": "ipython",
    "version": 3
   },
   "file_extension": ".py",
   "mimetype": "text/x-python",
   "name": "python",
   "nbconvert_exporter": "python",
   "pygments_lexer": "ipython3",
   "version": "3.12.4"
  }
 },
 "nbformat": 4,
 "nbformat_minor": 4
}
