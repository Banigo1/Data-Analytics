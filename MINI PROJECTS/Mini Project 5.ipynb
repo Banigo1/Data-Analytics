{
 "cells": [
  {
   "cell_type": "markdown",
   "metadata": {},
   "source": [
    "<h4>Mini Project 5: List Value Swap</h4>\n",
    "\n",
    "Elements to Use:\n",
    "\n",
    "\n",
    "ListA = [10, 20, 30, 40, 50] <br>\n",
    "ListB = [‘A’, ‘B’, ’C’, ‘D’, ‘E’] <br>\n",
    "\n",
    "Task: <br>\n",
    "\n",
    "\n",
    " • Swap the values of the first list to be that of the second list and the value of the second to be that of the first.<br>\n",
    " • Print the list before and after the swap.\n"
   ]
  },
  {
   "cell_type": "code",
   "execution_count": null,
   "metadata": {},
   "outputs": [],
   "source": [
    "ListA = [10, 20, 30, 40, 50]\n",
    "ListB = ['A', 'B', 'C', 'D', 'E']\n",
    "\n",
    "print(\"ListA and ListB before swap:\")\n",
    "print(\"ListA:\", ListA)\n",
    "print(\"ListB:\", ListB)\n",
    "\n",
    "# Swap the values of ListA and ListB\n",
    "temp = ListA.copy()\n",
    "ListA = ListB.copy()\n",
    "ListB = temp.copy()\n",
    "\n",
    "print(\"\\nListA and ListB after swap:\")\n",
    "print(\"ListA:\", ListA)\n",
    "print(\"ListB:\", ListB)\n"
   ]
  }
 ],
 "metadata": {
  "kernelspec": {
   "display_name": "base",
   "language": "python",
   "name": "python3"
  },
  "language_info": {
   "codemirror_mode": {
    "name": "ipython",
    "version": 3
   },
   "file_extension": ".py",
   "mimetype": "text/x-python",
   "name": "python",
   "nbconvert_exporter": "python",
   "pygments_lexer": "ipython3",
   "version": "3.12.4"
  }
 },
 "nbformat": 4,
 "nbformat_minor": 2
}
