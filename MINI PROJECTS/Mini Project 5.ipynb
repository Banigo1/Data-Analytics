{
 "cells": [
  {
   "cell_type": "markdown",
   "metadata": {},
   "source": [
    "<h4>Mini Project 5: List Value Swap</h4>\n",
    "\n",
    "Elements to Use:\n",
    "\n",
    "\n",
    "ListA = [10, 20, 30, 40, 50] <br>\n",
    "ListB = [‘A’, ‘B’, ’C’, ‘D’, ‘E’] <br>\n",
    "\n",
    "Task: <br>\n",
    "\n",
    "\n",
    " • Swap the values of the first list to be that of the second list and the value of the second to be that of the first.<br>\n",
    " • Print the list before and after the swap.\n"
   ]
  },
  {
   "cell_type": "code",
   "execution_count": 3,
   "metadata": {},
   "outputs": [
    {
     "name": "stdout",
     "output_type": "stream",
     "text": [
      "ListA and ListB before swap:\n",
      "ListA: [10, 20, 30, 40, 50]\n",
      "ListB: ['A', 'B', 'C', 'D', 'E']\n",
      "\n",
      "ListA and ListB after swap:\n",
      "ListA: ['A', 'B', 'C', 'D', 'E']\n",
      "ListB: [10, 20, 30, 40, 50]\n"
     ]
    }
   ],
   "source": [
    "ListA = [10, 20, 30, 40, 50]\n",
    "ListB = ['A', 'B', 'C', 'D', 'E']\n",
    "\n",
    "print(\"ListA and ListB before swap:\")\n",
    "print(\"ListA:\", ListA)\n",
    "print(\"ListB:\", ListB)\n",
    "\n",
    "temp = ListA.copy()\n",
    "ListA = ListB.copy()\n",
    "ListB = temp.copy()\n",
    "\n",
    "print(\"\\nListA and ListB after swap:\")\n",
    "print(\"ListA:\", ListA)\n",
    "print(\"ListB:\", ListB)\n"
   ]
  },
  {
   "cell_type": "code",
   "execution_count": 5,
   "metadata": {},
   "outputs": [
    {
     "data": {
      "text/plain": [
       "['A', 'B', 'C', 'D', 'E']"
      ]
     },
     "execution_count": 5,
     "metadata": {},
     "output_type": "execute_result"
    }
   ],
   "source": [
    "\n",
    "ListA"
   ]
  },
  {
   "cell_type": "code",
   "execution_count": 7,
   "metadata": {},
   "outputs": [
    {
     "data": {
      "text/plain": [
       "[10, 20, 30, 40, 50]"
      ]
     },
     "execution_count": 7,
     "metadata": {},
     "output_type": "execute_result"
    }
   ],
   "source": [
    "ListB"
   ]
  }
 ],
 "metadata": {
  "kernelspec": {
   "display_name": "Python 3 (ipykernel)",
   "language": "python",
   "name": "python3"
  },
  "language_info": {
   "codemirror_mode": {
    "name": "ipython",
    "version": 3
   },
   "file_extension": ".py",
   "mimetype": "text/x-python",
   "name": "python",
   "nbconvert_exporter": "python",
   "pygments_lexer": "ipython3",
   "version": "3.12.4"
  }
 },
 "nbformat": 4,
 "nbformat_minor": 4
}
