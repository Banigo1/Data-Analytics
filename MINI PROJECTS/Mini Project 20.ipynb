{
 "cells": [
  {
   "cell_type": "markdown",
   "metadata": {},
   "source": [
    "Mini Project 20 Library Management System: \n",
    "\n",
    "    Create a library management system using dictionaries and sets where:\n",
    "\n",
    "•\tA dictionary stores information about books (e.g., title, author, available copies).\n",
    "\n",
    "•\tA set keeps track of the books currently checked out by users.\n",
    "\n",
    "•\tImplement functions to add books, check out books, and return books."
   ]
  },
  {
   "cell_type": "code",
   "execution_count": 1,
   "metadata": {},
   "outputs": [
    {
     "name": "stdout",
     "output_type": "stream",
     "text": [
      "You have checked out '1984'.\n",
      "You have returned '1984'.\n",
      "\n",
      "Available Books:\n",
      "Title: The Great Gatsby, Author: F. Scott Fitzgerald, Available Copies: 3\n",
      "Title: 1984, Author: George Orwell, Available Copies: 2\n",
      "Title: Python is interesting, Author: Harper Lee, Available Copies: 5\n"
     ]
    }
   ],
   "source": [
    "# Initialize the library with a dictionary for books and a set for checked out books\n",
    "library = {\n",
    "    \"Python is interesting\": {\"author\": \"F. Scott Fitzgerald\", \"available_copies\": 3},\n",
    "    \"1984\": {\"author\": \"George Orwell\", \"available_copies\": 2}\n",
    "}\n",
    "checked_out_books = set()\n",
    "\n",
    "# Adding a new book\n",
    "new_book_title = \"Python make sense\"\n",
    "new_book_author = \"Harper Lee\"\n",
    "new_book_copies = 5\n",
    "\n",
    "if new_book_title in library:\n",
    "    library[new_book_title][\"available_copies\"] += new_book_copies\n",
    "else:\n",
    "    library[new_book_title] = {\"author\": new_book_author, \"available_copies\": new_book_copies}\n",
    "\n",
    "# Checking out a book\n",
    "book_to_check_out = \"1984\"\n",
    "if book_to_check_out in library and library[book_to_check_out][\"available_copies\"] > 0:\n",
    "    library[book_to_check_out][\"available_copies\"] -= 1\n",
    "    checked_out_books.add(book_to_check_out)\n",
    "    print(f\"You have checked out '{book_to_check_out}'.\")\n",
    "else:\n",
    "    print(f\"Sorry, '{book_to_check_out}' is not available for checkout.\")\n",
    "\n",
    "# Returning a book\n",
    "book_to_return = \"1984\"\n",
    "if book_to_return in checked_out_books:\n",
    "    library[book_to_return][\"available_copies\"] += 1\n",
    "    checked_out_books.remove(book_to_return)\n",
    "    print(f\"You have returned '{book_to_return}'.\")\n",
    "else:\n",
    "    print(f\"You did not check out '{book_to_return}'.\")\n",
    "\n",
    "# Displaying all available books\n",
    "print(\"\\nAvailable Books:\")\n",
    "for title, info in library.items():\n",
    "    print(f\"Title: {title}, Author: {info['author']}, Available Copies: {info['available_copies']}\")\n"
   ]
  }
 ],
 "metadata": {
  "kernelspec": {
   "display_name": "base",
   "language": "python",
   "name": "python3"
  },
  "language_info": {
   "codemirror_mode": {
    "name": "ipython",
    "version": 3
   },
   "file_extension": ".py",
   "mimetype": "text/x-python",
   "name": "python",
   "nbconvert_exporter": "python",
   "pygments_lexer": "ipython3",
   "version": "3.12.4"
  }
 },
 "nbformat": 4,
 "nbformat_minor": 2
}
