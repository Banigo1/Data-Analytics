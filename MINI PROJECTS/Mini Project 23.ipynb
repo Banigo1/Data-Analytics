{
 "cells": [
  {
   "cell_type": "markdown",
   "metadata": {},
   "source": [
    "    Mini Project 23\n",
    "\n",
    "    Tasks:\n",
    "\n",
    "1a.  Addition Function:\n",
    "\n",
    "•\tWrite a function named add_numbers that takes two arguments and returns their sum.\n",
    "\n",
    "1b. Greeting Function:\n",
    "\n",
    "•\tWrite a function named greet that takes a name as an argument and prints a personalized greeting message.\n",
    "\n",
    "1c. Lambda Multiplication:\n",
    "\n",
    "•\tCreate a lambda function to multiply two numbers, then use this function to multiply 7 by 5.\n",
    "\n",
    "1d. Exponentiation Function:\n",
    "\n",
    "•\tWrite a function named power that takes two arguments; a base and an exponent. The function should return the base raised to the power of the exponent. The exponent should default to 2 if not provided.\n"
   ]
  },
  {
   "cell_type": "code",
   "execution_count": 2,
   "metadata": {},
   "outputs": [
    {
     "name": "stdout",
     "output_type": "stream",
     "text": [
      "35\n"
     ]
    }
   ],
   "source": [
    "# 1a. Addition Function\n",
    "def add_numbers(a, b):\n",
    "    return a + b\n",
    "\n",
    "# 1b. Greeting Function\n",
    "def greet(name):\n",
    "    print(f\"Hello, {name}! Welcome!\")\n",
    "\n",
    "# 1c. Lambda Multiplication\n",
    "multiply = lambda x, y: x * y\n",
    "result = multiply(7, 5)\n",
    "\n",
    "# 1d. Exponentiation Function\n",
    "def power(base, exponent=2):\n",
    "    return base ** exponent"
   ]
  }
 ],
 "metadata": {
  "kernelspec": {
   "display_name": "base",
   "language": "python",
   "name": "python3"
  },
  "language_info": {
   "name": "python",
   "version": "3.12.4"
  }
 },
 "nbformat": 4,
 "nbformat_minor": 2
}
