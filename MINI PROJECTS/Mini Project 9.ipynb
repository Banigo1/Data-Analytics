{
 "cells": [
  {
   "cell_type": "markdown",
   "metadata": {},
   "source": [
    "<h4>Mini Project 9: List Filtering Using Loops</h4>\n",
    "\n",
    "Elements to Use: [5, -3, 12, -8, 7, -1, 14, -6]\n",
    "\n",
    "Task:\n",
    "\n",
    "•\tUse a loop to create a new list that contains only the positive numbers from the original list. <br>\n",
    "•\tPrint both the original list and the filtered list.\n"
   ]
  },
  {
   "cell_type": "code",
   "execution_count": 15,
   "metadata": {},
   "outputs": [
    {
     "name": "stdout",
     "output_type": "stream",
     "text": [
      "\n",
      "Original list: [5, -3, 12, -8, 7, -1, 14, -6]\n",
      "List of Positive Numbers Only: [5, 12, 7, 14]\n"
     ]
    }
   ],
   "source": [
    "numbers = [5, -3, 12, -8, 7, -1, 14, -6]\n",
    "\n",
    "positive_numbers = []\n",
    "for i in numbers:\n",
    "    if i > 0:\n",
    "        positive_numbers.append(i)\n",
    "\n",
    "print(\"\\nOriginal list:\", numbers)\n",
    "print(\"List of Positive Numbers Only:\",positive_numbers)\n"
   ]
  }
 ],
 "metadata": {
  "kernelspec": {
   "display_name": "base",
   "language": "python",
   "name": "python3"
  },
  "language_info": {
   "codemirror_mode": {
    "name": "ipython",
    "version": 3
   },
   "file_extension": ".py",
   "mimetype": "text/x-python",
   "name": "python",
   "nbconvert_exporter": "python",
   "pygments_lexer": "ipython3",
   "version": "3.12.4"
  }
 },
 "nbformat": 4,
 "nbformat_minor": 2
}
